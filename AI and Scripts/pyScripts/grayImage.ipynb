{
 "cells": [
  {
   "cell_type": "code",
   "execution_count": null,
   "id": "4a009c82",
   "metadata": {},
   "outputs": [],
   "source": [
    "fig, ax = plt.subplots(1, 2, figsize=(12, 6))\n",
    "\n",
    "image_path = 'Data/train/Soja - Masaico Amarelo/YM (110).jpg'\n",
    "image = Image.open(image_path)\n",
    "\n",
    "grayscale_transform = v2.Grayscale()\n",
    "changedImage = grayscale_transform(image)\n",
    "\n",
    "ax[0].imshow(image)\n",
    "ax[0].set_title(\"Imagem Original\")\n",
    "ax[0].axis('off')\n",
    "\n",
    "ax[1].imshow(changedImage, cmap='gray')\n",
    "ax[1].set_title(\"Imagem em Tons de Cinza\")\n",
    "ax[1].axis('off')\n",
    "\n",
    "plt.show()"
   ]
  }
 ],
 "metadata": {
  "language_info": {
   "name": "python"
  }
 },
 "nbformat": 4,
 "nbformat_minor": 5
}
