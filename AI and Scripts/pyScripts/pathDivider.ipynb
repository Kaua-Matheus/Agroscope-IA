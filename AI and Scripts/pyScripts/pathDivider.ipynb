{
 "cells": [
  {
   "cell_type": "markdown",
   "id": "791e05be",
   "metadata": {},
   "source": [
    "# Importando as bibliotecas"
   ]
  },
  {
   "cell_type": "code",
   "execution_count": 4,
   "id": "6cf3223c",
   "metadata": {},
   "outputs": [],
   "source": [
    "import os\n",
    "import random\n",
    "import shutil"
   ]
  },
  {
   "cell_type": "markdown",
   "id": "07a01475",
   "metadata": {},
   "source": [
    "# Pastas principais"
   ]
  },
  {
   "cell_type": "code",
   "execution_count": 5,
   "id": "5f9b3d25",
   "metadata": {},
   "outputs": [],
   "source": [
    "# Definição dos caminhos dos datasets necessários\n",
    "dataset_dir = r\"..\\\\..\\\\..\\\\GeneralData\\\\Every\"\n",
    "train_dir = r\"..\\\\..\\\\..\\\\GeneralData\\\\train\"\n",
    "test_dir = r\"..\\\\..\\\\..\\\\GeneralData\\\\test\"\n",
    "\n",
    "# Criando pastas de traino e teste se elas não existirem\n",
    "os.makedirs(train_dir, exist_ok=True)\n",
    "os.makedirs(test_dir, exist_ok=True)"
   ]
  },
  {
   "cell_type": "markdown",
   "id": "7071de8e",
   "metadata": {},
   "source": [
    "# Looping de criação e separação das pastas"
   ]
  },
  {
   "cell_type": "code",
   "execution_count": null,
   "id": "67cb53db",
   "metadata": {},
   "outputs": [],
   "source": [
    "# Looping dentro de todas as pastas dentro do diretório Root\n",
    "for class_name in os.listdir(dataset_dir):\n",
    "    class_path = os.path.join(dataset_dir, class_name)\n",
    "    \n",
    "    # Caso não seja um diretório, o loop é pulado\n",
    "    if not os.path.isdir(class_path):\n",
    "        continue\n",
    "\n",
    "    # Cria as subclasses (milho, soja, trigo) dentro dos diretórios de treino e teste\n",
    "    train_class_dir = os.path.join(train_dir, class_name)\n",
    "    test_class_dir = os.path.join(test_dir, class_name)\n",
    "    os.makedirs(train_class_dir, exist_ok=True)\n",
    "    os.makedirs(test_class_dir, exist_ok=True)\n",
    "\n",
    "    # image_paths recebe todos os arquivos presentes dentro de cada pasta de cada classe\n",
    "    image_paths = [os.path.join(class_path, file) for file in os.listdir(class_path)]\n",
    "    \n",
    "    # Embaralha as imagens\n",
    "    random.shuffle(image_paths)\n",
    "\n",
    "    # Divide entre 80% para treino e 20% para teste\n",
    "    split_index = int(0.8 * len(image_paths))\n",
    "    train_paths = image_paths[:split_index]\n",
    "    test_paths = image_paths[split_index:]\n",
    "\n",
    "    # Copia os arquivos para os diretórios\n",
    "    for path in train_paths:\n",
    "        shutil.copy(path, train_class_dir)\n",
    "\n",
    "    for path in test_paths:\n",
    "        shutil.copy(path, test_class_dir)\n",
    "\n",
    "print(\"Cópia dos arquivos concluída!\")"
   ]
  }
 ],
 "metadata": {
  "kernelspec": {
   "display_name": ".venv",
   "language": "python",
   "name": "python3"
  },
  "language_info": {
   "codemirror_mode": {
    "name": "ipython",
    "version": 3
   },
   "file_extension": ".py",
   "mimetype": "text/x-python",
   "name": "python",
   "nbconvert_exporter": "python",
   "pygments_lexer": "ipython3",
   "version": "3.12.6"
  }
 },
 "nbformat": 4,
 "nbformat_minor": 5
}
