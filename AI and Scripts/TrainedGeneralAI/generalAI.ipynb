{
 "cells": [
  {
   "cell_type": "markdown",
   "id": "b865b0ae",
   "metadata": {},
   "source": [
    "# Importando classes"
   ]
  },
  {
   "cell_type": "code",
   "execution_count": 2,
   "id": "5d568fa7",
   "metadata": {},
   "outputs": [],
   "source": [
    "# Torch\n",
    "import torch\n",
    "import torchvision.transforms as transforms\n",
    "import torchvision\n",
    "import torchvision.datasets as datasets\n",
    "import torch.nn as nn\n",
    "import torch.nn.functional as F\n",
    "import torch.optim as optim\n",
    "from torch.utils.data import random_split\n",
    "\n",
    "# Avaliação de resultados\n",
    "from sklearn.metrics import accuracy_score\n",
    "\n",
    "# Rodando scripts modularizados\n",
    "%run \"../pyScripts/devFunctions.py\"\n",
    "\n",
    "# PIL\n",
    "from PIL import Image\n",
    "\n",
    "# Numpy\n",
    "import numpy as np"
   ]
  },
  {
   "cell_type": "markdown",
   "id": "9d6c0853",
   "metadata": {},
   "source": [
    "# Definindo as variáveis"
   ]
  },
  {
   "cell_type": "code",
   "execution_count": 3,
   "id": "279eef55",
   "metadata": {},
   "outputs": [],
   "source": [
    "transform = transforms.Compose([\n",
    "    transforms.Resize((64, 64)), # Alterando tamanho da imagem para 64 x 64\n",
    "    transforms.Grayscale(1), # Transformando imagem em cinza\n",
    "    transforms.ToTensor(),\n",
    "    transforms.Normalize((0.5), (0.5)), # Normalizando imagem para apenas um canal ao invés de 3 -> (0.5, 0.5, 0.5), (0.5, 0.5, 0.5)\n",
    "])\n",
    "\n",
    "batch_size = 64\n",
    "train_data = \"../../../GeneralData/train\"\n",
    "test_data = \"../../../GeneralData/test\"\n",
    "DEVICE = torch.device(\"cuda\" if torch.cuda.is_available() else \"cpu\")"
   ]
  },
  {
   "cell_type": "markdown",
   "id": "56513872",
   "metadata": {},
   "source": [
    "## TrainSet e TrainLoader"
   ]
  },
  {
   "cell_type": "code",
   "execution_count": 4,
   "id": "c6c98ca1",
   "metadata": {},
   "outputs": [],
   "source": [
    "train_set = datasets.ImageFolder(root=train_data, transform=transform)\n",
    "test_set = datasets.ImageFolder(root=test_data, transform=transform)\n",
    "\n",
    "train_loader = torch.utils.data.DataLoader(train_set, batch_size=batch_size, shuffle=True)\n",
    "test_loader = torch.utils.data.DataLoader(test_set, batch_size=batch_size, shuffle=True)"
   ]
  },
  {
   "cell_type": "markdown",
   "id": "c5bee067",
   "metadata": {},
   "source": [
    "## Mostrando as imagens do trainset"
   ]
  },
  {
   "cell_type": "code",
   "execution_count": 5,
   "id": "bd891569",
   "metadata": {},
   "outputs": [
    {
     "data": {
      "image/png": "[encoded data removed]",
      "text/plain": [
       "<Figure size 640x480 with 1 Axes>"
      ]
     },
     "metadata": {},
     "output_type": "display_data"
    }
   ],
   "source": [
    "image = Image.open(test_set.imgs[3][0])\n",
    "image_tensor = transform(image)\n",
    "\n",
    "imshow(torchvision.utils.make_grid(image_tensor.unsqueeze(0)))"
   ]
  },
  {
   "cell_type": "markdown",
   "id": "bbbb67e4",
   "metadata": {},
   "source": [
    "# Criando as classes"
   ]
  },
  {
   "cell_type": "code",
   "execution_count": 6,
   "id": "b5084a98",
   "metadata": {},
   "outputs": [],
   "source": [
    "class NeuralNetwork(nn.Module):\n",
    "    def __init__(self):\n",
    "        super().__init__()\n",
    "        self.conv1 = nn.Conv2d(1, 32, kernel_size=3, padding=1) # 64\n",
    "        self.pool = nn.MaxPool2d(2, 2) # 32\n",
    "        self.conv2 = nn.Conv2d(32, 64, kernel_size=3) # 30\n",
    "        self.fc1 = nn.Linear(64 * 15 * 15, 120)\n",
    "        self.fc2 = nn.Linear(120, 84)\n",
    "        self.fc3 = nn.Linear(84, 3)\n",
    "    \n",
    "    def forward(self, x):\n",
    "        x = self.pool(F.relu(self.conv1(x)))\n",
    "        x = self.pool(F.relu(self.conv2(x)))\n",
    "        x = torch.flatten(x, 1)\n",
    "        x = F.relu(self.fc1(x))\n",
    "        x = F.relu(self.fc2(x))\n",
    "        x = self.fc3(x)\n",
    "        return x\n",
    "    \n",
    "Net = NeuralNetwork().to(DEVICE)"
   ]
  },
  {
   "cell_type": "markdown",
   "id": "abed9002",
   "metadata": {},
   "source": [
    "# Definindo o otimizador e a função de perda"
   ]
  },
  {
   "cell_type": "code",
   "execution_count": 7,
   "id": "2d77a248",
   "metadata": {},
   "outputs": [],
   "source": [
    "criterion = nn.CrossEntropyLoss()\n",
    "optimizer = optim.SGD(Net.parameters(), lr=0.001, momentum=0.9)"
   ]
  },
  {
   "cell_type": "markdown",
   "id": "c7d659df",
   "metadata": {},
   "source": [
    "# Treinando o modelo"
   ]
  },
  {
   "cell_type": "code",
   "execution_count": 8,
   "id": "d520975f",
   "metadata": {},
   "outputs": [
    {
     "name": "stdout",
     "output_type": "stream",
     "text": [
      "[1] loss: 0.214\n",
      "[2] loss: 0.142\n",
      "Treinamento concluído!\n"
     ]
    }
   ],
   "source": [
    "for epoch in range(2):\n",
    "\n",
    "    running_loss = 0.0\n",
    "\n",
    "    for images, labels in train_loader:\n",
    "\n",
    "        \"\"\"\n",
    "            Nesse caso, images é a representação em matriz da imagem.\n",
    "            E labels é a representação de cada camada da CNN, se ela ativou ou não.\n",
    "        \"\"\"\n",
    "\n",
    "        # Adquirindo entradas, \"data\" é uma lista [inputs, labels]\n",
    "        images, labels = images.to(DEVICE), labels.to(DEVICE)\n",
    "\n",
    "        # zerando os parâmetros dos gradientes\n",
    "        optimizer.zero_grad()\n",
    "\n",
    "        outputs = Net(images)\n",
    "        loss = criterion(outputs, labels)\n",
    "        loss.backward()\n",
    "        optimizer.step()\n",
    "\n",
    "        running_loss += loss.item()\n",
    "        \n",
    "    print(f'[{epoch + 1}] loss: {running_loss / 2000:.3f}')\n",
    "\n",
    "print(\"Treinamento concluído!\")"
   ]
  },
  {
   "cell_type": "markdown",
   "id": "1ca1ff62",
   "metadata": {},
   "source": [
    "# Avaliando o modelo"
   ]
  },
  {
   "cell_type": "code",
   "execution_count": null,
   "id": "2350e97d",
   "metadata": {},
   "outputs": [
    {
     "name": "stdout",
     "output_type": "stream",
     "text": [
      "Accuracy of the model on the test set: 78.72%\n"
     ]
    }
   ],
   "source": [
    "Net.eval()\n",
    "all_preds = []\n",
    "all_labels = []\n",
    "\n",
    "with torch.no_grad():  # Desativa o cálculo de gradientes para economizar memória\n",
    "    for images, labels in test_loader:\n",
    "        images, labels = images.to(DEVICE), labels.to(DEVICE)\n",
    "        outputs = Net(images)\n",
    "        _, predicted = torch.max(outputs, 1)  # Obtém a classe com maior probabilidade\n",
    "        all_preds.extend(predicted.cpu().numpy())\n",
    "        all_labels.extend(labels.cpu().numpy())\n",
    "\n",
    "accuracy = accuracy_score(all_labels, all_preds)\n",
    "print(f\"Accuracy of the model on the test set: {accuracy * 100:.2f}%\")"
   ]
  },
  {
   "cell_type": "markdown",
   "id": "a56bd303",
   "metadata": {},
   "source": [
    "# Salvando Modelo"
   ]
  },
  {
   "cell_type": "code",
   "execution_count": 10,
   "id": "66a70f1c",
   "metadata": {},
   "outputs": [],
   "source": [
    "torch.save(Net.state_dict(), \"./Models/generalAI_v1.pth\")"
   ]
  }
 ],
 "metadata": {
  "kernelspec": {
   "display_name": ".venv",
   "language": "python",
   "name": "python3"
  },
  "language_info": {
   "codemirror_mode": {
    "name": "ipython",
    "version": 3
   },
   "file_extension": ".py",
   "mimetype": "text/x-python",
   "name": "python",
   "nbconvert_exporter": "python",
   "pygments_lexer": "ipython3",
   "version": "3.12.6"
  }
 },
 "nbformat": 4,
 "nbformat_minor": 5
}
