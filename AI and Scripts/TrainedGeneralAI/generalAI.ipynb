{
 "cells": [
  {
   "cell_type": "code",
   "execution_count": 12,
   "metadata": {},
   "outputs": [
    {
     "name": "stdout",
     "output_type": "stream",
     "text": [
      "Epoch 1, Loss: 0.7619714551680797\n",
      "Epoch 2, Loss: 0.33493742306490204\n",
      "Epoch 3, Loss: 0.2256988828649392\n",
      "Epoch 4, Loss: 0.1796471700575706\n",
      "Epoch 5, Loss: 0.11186283784037507\n",
      "Epoch 6, Loss: 0.09338335329163316\n",
      "Epoch 7, Loss: 0.049583666869816745\n",
      "Epoch 8, Loss: 0.05661228354516867\n",
      "Epoch 9, Loss: 0.033783028207442445\n",
      "Epoch 10, Loss: 0.01614531534063202\n",
      "Training complete!\n"
     ]
    }
   ],
   "source": [
    "import torch\n",
    "import torch.nn as nn\n",
    "import torch.optim as optim\n",
    "import torchvision.transforms as transforms\n",
    "import torchvision.datasets as datasets\n",
    "from torch.utils.data import DataLoader\n",
    "\n",
    "data_dir = \"GeneralPlants\"\n",
    "\n",
    "# Define the CNN\n",
    "class PlantShapeCNN(nn.Module):\n",
    "    def __init__(self):\n",
    "        super(PlantShapeCNN, self).__init__()\n",
    "        self.conv1 = nn.Conv2d(3, 32, kernel_size=3, stride=1, padding=1)\n",
    "        self.pool = nn.MaxPool2d(2, 2)\n",
    "        self.conv2 = nn.Conv2d(32, 64, kernel_size=3, stride=1, padding=1)\n",
    "        self.fc1 = nn.Linear(64 * 16 * 16, 128)  # Assuming input images are 64x64\n",
    "        self.fc2 = nn.Linear(128, 8)  # Assuming 5 plant shape classes\n",
    "\n",
    "    def forward(self, x):\n",
    "        x = self.pool(torch.relu(self.conv1(x)))\n",
    "        x = self.pool(torch.relu(self.conv2(x)))\n",
    "        x = x.view(x.size(0), -1)  # Flatten\n",
    "        x = torch.relu(self.fc1(x))\n",
    "        x = self.fc2(x)\n",
    "        return x\n",
    "\n",
    "# Check for GPU\n",
    "device = torch.device(\"cuda\" if torch.cuda.is_available() else \"cpu\")\n",
    "\n",
    "# Load dataset (Example: from a folder)\n",
    "transform = transforms.Compose([\n",
    "    transforms.Resize((64, 64)),\n",
    "    transforms.ToTensor()\n",
    "])\n",
    "\n",
    "train_dataset = datasets.ImageFolder(root=f\"{data_dir}/train\", transform=transform)\n",
    "train_loader = DataLoader(train_dataset, batch_size=16, shuffle=True)\n",
    "\n",
    "# Initialize model, loss, and optimizer\n",
    "model = PlantShapeCNN().to(device)\n",
    "criterion = nn.CrossEntropyLoss()\n",
    "optimizer = optim.Adam(model.parameters(), lr=0.001)\n",
    "\n",
    "# Training loop\n",
    "epochs = 10\n",
    "for epoch in range(epochs):\n",
    "    running_loss = 0.0\n",
    "    for images, labels in train_loader:\n",
    "        images, labels = images.to(device), labels.to(device)\n",
    "\n",
    "        optimizer.zero_grad()\n",
    "        outputs = model(images)\n",
    "        loss = criterion(outputs, labels)\n",
    "        loss.backward()\n",
    "        optimizer.step()\n",
    "\n",
    "        running_loss += loss.item()\n",
    "    \n",
    "    print(f\"Epoch {epoch+1}, Loss: {running_loss / len(train_loader)}\")\n",
    "\n",
    "print(\"Training complete!\")\n"
   ]
  },
  {
   "cell_type": "code",
   "execution_count": 13,
   "metadata": {},
   "outputs": [],
   "source": [
    "test_data = datasets.ImageFolder(root=f\"{data_dir}/test\", transform=transform)\n",
    "test_loader = DataLoader(test_data, batch_size=16, shuffle=False, num_workers=4, pin_memory=True)"
   ]
  },
  {
   "cell_type": "code",
   "execution_count": 14,
   "metadata": {},
   "outputs": [],
   "source": [
    "learning_rate = 0.01\n",
    "classes = ['Milho - Cercospora Gray Spot', 'Milho - Ferrugem', 'Milho - Northern Leaf Blight', 'Milho - Saudavel',\n",
    "           'Soja - Masaico Amarelo', 'Soja - Sudden Death Syndrone', 'Trigo - Ferrugem Listrada', 'Trigo - Saudavel', 'Trigo - Septoria']"
   ]
  },
  {
   "cell_type": "code",
   "execution_count": 15,
   "metadata": {},
   "outputs": [
    {
     "name": "stdout",
     "output_type": "stream",
     "text": [
      "Precisão do modelo no conjunto de teste: 95.27%\n",
      "Previsões: ['Milho - Cercospora Gray Spot', 'Milho - Cercospora Gray Spot', 'Milho - Cercospora Gray Spot', 'Milho - Cercospora Gray Spot', 'Milho - Cercospora Gray Spot', 'Milho - Cercospora Gray Spot', 'Milho - Cercospora Gray Spot', 'Milho - Cercospora Gray Spot', 'Milho - Cercospora Gray Spot', 'Milho - Cercospora Gray Spot', 'Milho - Ferrugem', 'Milho - Cercospora Gray Spot', 'Milho - Cercospora Gray Spot', 'Milho - Cercospora Gray Spot', 'Milho - Cercospora Gray Spot', 'Milho - Cercospora Gray Spot']\n",
      "Labels reais: ['Milho - Cercospora Gray Spot', 'Milho - Cercospora Gray Spot', 'Milho - Cercospora Gray Spot', 'Milho - Cercospora Gray Spot', 'Milho - Cercospora Gray Spot', 'Milho - Cercospora Gray Spot', 'Milho - Cercospora Gray Spot', 'Milho - Cercospora Gray Spot', 'Milho - Cercospora Gray Spot', 'Milho - Cercospora Gray Spot', 'Milho - Cercospora Gray Spot', 'Milho - Cercospora Gray Spot', 'Milho - Cercospora Gray Spot', 'Milho - Cercospora Gray Spot', 'Milho - Cercospora Gray Spot', 'Milho - Cercospora Gray Spot']\n"
     ]
    }
   ],
   "source": [
    "# Coloca o modelo em modo de avaliação\n",
    "model.eval()\n",
    "\n",
    "device = torch.device(\"cuda\" if torch.cuda.is_available() else \"cpu\")\n",
    "\n",
    "correct = 0\n",
    "total = 0\n",
    "\n",
    "# Desativando o cálculo de gradiente para economizar memória\n",
    "with torch.no_grad():\n",
    "    for images, labels in test_loader:\n",
    "        images, labels = images.to(device), labels.to(device)\n",
    "\n",
    "        outputs = model(images)\n",
    "        _, predicted = torch.max(outputs, 1)\n",
    "\n",
    "        total += labels.size(0)\n",
    "        correct += (predicted == labels).sum().item()\n",
    "\n",
    "# Exibir precisão do modelo\n",
    "accuracy = 100 * correct / total\n",
    "print(f'Precisão do modelo no conjunto de teste: {accuracy:.2f}%')\n",
    "\n",
    "dataiter = iter(test_loader)\n",
    "images, labels = next(dataiter)\n",
    "\n",
    "# Movendo para GPU se disponível\n",
    "images, labels = images.to(device), labels.to(device)\n",
    "\n",
    "outputs = model(images)\n",
    "_, predicted = torch.max(outputs, 1)\n",
    "\n",
    "print('Previsões:', [classes[p] for p in predicted])  # Nome das classes previstas\n",
    "print('Labels reais:', [classes[l] for l in labels])  # Nome das classes corretas\n"
   ]
  },
  {
   "cell_type": "code",
   "execution_count": 16,
   "metadata": {},
   "outputs": [
    {
     "name": "stdout",
     "output_type": "stream",
     "text": [
      "Modelo salvo em: TrainedGeneralAi/GeneralAi-V01.pth\n"
     ]
    }
   ],
   "source": [
    "MODEL_PATH = \"TrainedGeneralAi/GeneralAi-V01.pth\"\n",
    "\n",
    "# Salvando o modelo treinado\n",
    "torch.save(model.state_dict(), MODEL_PATH)\n",
    "print(f\"Modelo salvo em: {MODEL_PATH}\")"
   ]
  },
  {
   "cell_type": "markdown",
   "metadata": {},
   "source": [
    "Carregar Modelo Salvo"
   ]
  },
  {
   "cell_type": "code",
   "execution_count": null,
   "metadata": {},
   "outputs": [],
   "source": [
    "# 1. Criar a mesma estrutura da rede neural\n",
    "model = PlantShapeCNN()\n",
    "\n",
    "# 2. Carregar os pesos salvos no modelo\n",
    "model.load_state_dict(torch.load(MODEL_PATH))\n",
    "\n",
    "# 3. Definir o modelo para modo de avaliação\n",
    "model.eval()\n",
    "print(\"Modelo carregado com sucesso!\")"
   ]
  }
 ],
 "metadata": {
  "kernelspec": {
   "display_name": ".venv",
   "language": "python",
   "name": "python3"
  },
  "language_info": {
   "codemirror_mode": {
    "name": "ipython",
    "version": 3
   },
   "file_extension": ".py",
   "mimetype": "text/x-python",
   "name": "python",
   "nbconvert_exporter": "python",
   "pygments_lexer": "ipython3",
   "version": "3.13.1"
  }
 },
 "nbformat": 4,
 "nbformat_minor": 2
}
