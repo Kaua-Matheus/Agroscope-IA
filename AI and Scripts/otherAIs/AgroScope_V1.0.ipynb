{
 "cells": [
  {
   "cell_type": "code",
   "execution_count": 48,
   "metadata": {},
   "outputs": [],
   "source": [
    "import torch\n",
    "import torch.nn as nn\n",
    "import torch.optim as optim\n",
    "import torchvision\n",
    "from torchvision import datasets, transforms\n",
    "from torch.utils.data import DataLoader\n",
    "import torch.nn.functional as F\n",
    "import matplotlib.pyplot as plt\n",
    "import numpy as np\n",
    "from PIL import Image"
   ]
  },
  {
   "cell_type": "code",
   "execution_count": 49,
   "metadata": {},
   "outputs": [
    {
     "name": "stdout",
     "output_type": "stream",
     "text": [
      "Usando dispositivo: cpu\n"
     ]
    }
   ],
   "source": [
    "device = torch.device('cuda' if torch.cuda.is_available() else 'cpu')\n",
    "print(f\"Usando dispositivo: {device}\")\n",
    "\n",
    "batch_size = 32\n",
    "num_epochs = 64\n",
    "learning_rate = 0.01\n",
    "classes = ['Milho - Cercospora Gray Spot', 'Milho - Ferrugem', 'Milho - Northern Leaf Blight', 'Milho - Saudavel',\n",
    "           'Soja - Masaico Amarelo', 'Soja - Sudden Death Syndrone', 'Trigo - Ferrugem Listrada', 'Trigo - Saudavel', 'Trigo - Septoria']\n",
    "\n",
    "# Transformações para pré-processamento das imagens\n",
    "transform = transforms.Compose([\n",
    "    transforms.Resize((128, 128)),\n",
    "    transforms.CenterCrop(10),\n",
    "    transforms.RandomResizedCrop(128, scale=(0.5, 1.0)),\n",
    "    transforms.RandomRotation(20),\n",
    "    transforms.ColorJitter(brightness=0.2, contrast=0.2),\n",
    "    transforms.ToTensor(),\n",
    "    transforms.Normalize((0.5, 0.5, 0.5), (0.5, 0.5, 0.5))\n",
    "])\n",
    "\n",
    "# Carregando os datasets\n",
    "data_dir = \"Data\"\n",
    "train_data = datasets.ImageFolder(root=f\"{data_dir}/train\", transform=transform)\n",
    "test_data = datasets.ImageFolder(root=f\"{data_dir}/test\", transform=transform)"
   ]
  },
  {
   "cell_type": "code",
   "execution_count": 50,
   "metadata": {},
   "outputs": [],
   "source": [
    "train_loader = DataLoader(train_data, batch_size=batch_size, shuffle=True, num_workers=4, pin_memory=True)\n",
    "test_loader = DataLoader(test_data, batch_size=batch_size, shuffle=False, num_workers=4, pin_memory=True)"
   ]
  },
  {
   "cell_type": "code",
   "execution_count": null,
   "metadata": {},
   "outputs": [],
   "source": [
    "class NeuralNetwork(nn.Module):\n",
    "    def __init__(self):\n",
    "\n",
    "        super().__init__()\n",
    "\n",
    "        # Camadas convolucionais\n",
    "        self.conv1 = nn.Conv2d(3, 24, kernel_size=5, stride=1, padding=1)  # (24, 126, 126)\n",
    "        self.pool = nn.MaxPool2d(2, 2)  # (24, 63, 63)\n",
    "        self.conv2 = nn.Conv2d(24, 48, kernel_size=5, stride=1, padding=0)  # (48, 59, 59)\n",
    "        self.pool2 = nn.MaxPool2d(2, 2)  # (48, 29.5, 29.5)\n",
    "        self.conv3 = nn.Conv2d(48, 94, kernel_size=5, stride=1, padding=0)  # (94, 25,5, 25,5)\n",
    "        self.pool3 = nn.MaxPool2d(2, 2)  # (94, 12,75, 12,75)\n",
    "\n",
    "        # Camadas totalmente conectadas\n",
    "        self.fc1 = nn.Linear(94 * 12 * 12, 120)  # Ajustado para 94 filtros\n",
    "        self.fc2 = nn.Linear(120, 84)\n",
    "        self.fc3 = nn.Linear(84, len(classes))\n",
    "\n",
    "    def forward(self, model):\n",
    "        model = F.relu(self.conv1(model))\n",
    "        model = self.pool(model)\n",
    "        model = F.relu(self.conv2(model))\n",
    "        model = self.pool2(model)\n",
    "        model = F.relu(self.conv3(model))\n",
    "        model = self.pool3(model)\n",
    "\n",
    "        model = torch.flatten(model, 1)  # Achata para a camada densa\n",
    "        model = F.relu(self.fc1(model))\n",
    "        model = F.relu(self.fc2(model))\n",
    "        model = self.fc3(model)\n",
    "        return model\n"
   ]
  },
  {
   "cell_type": "code",
   "execution_count": 52,
   "metadata": {},
   "outputs": [
    {
     "name": "stdout",
     "output_type": "stream",
     "text": [
      "Modelo está na GPU? False\n"
     ]
    }
   ],
   "source": [
    "net = NeuralNetwork().to(device)\n",
    "\n",
    "loss_function = nn.CrossEntropyLoss()\n",
    "optimizer = optim.SGD(net.parameters(), lr=learning_rate, momentum=0.9)\n",
    "\n",
    "print(f\"Modelo está na GPU? {next(net.parameters()).is_cuda}\")"
   ]
  },
  {
   "cell_type": "code",
   "execution_count": 53,
   "metadata": {},
   "outputs": [
    {
     "name": "stdout",
     "output_type": "stream",
     "text": [
      "Epoch 1/64, Loss: 2.1712\n",
      "Epoch 2/64, Loss: 2.0620\n",
      "Epoch 3/64, Loss: 1.9786\n",
      "Epoch 4/64, Loss: 1.9127\n",
      "Epoch 5/64, Loss: 1.7421\n",
      "Epoch 6/64, Loss: 1.6175\n",
      "Epoch 7/64, Loss: 1.6458\n",
      "Epoch 8/64, Loss: 1.5036\n",
      "Epoch 9/64, Loss: 1.5187\n",
      "Epoch 10/64, Loss: 1.3914\n",
      "Epoch 11/64, Loss: 1.4455\n",
      "Epoch 12/64, Loss: 1.3857\n",
      "Epoch 13/64, Loss: 1.2585\n",
      "Epoch 14/64, Loss: 1.2889\n",
      "Epoch 15/64, Loss: 1.2591\n",
      "Epoch 16/64, Loss: 1.2732\n",
      "Epoch 17/64, Loss: 1.2979\n",
      "Epoch 18/64, Loss: 1.2450\n",
      "Epoch 19/64, Loss: 1.2061\n",
      "Epoch 20/64, Loss: 1.2110\n",
      "Epoch 21/64, Loss: 1.2695\n",
      "Epoch 22/64, Loss: 1.2293\n",
      "Epoch 23/64, Loss: 1.1754\n",
      "Epoch 24/64, Loss: 1.2210\n",
      "Epoch 25/64, Loss: 1.2450\n",
      "Epoch 26/64, Loss: 1.1702\n",
      "Epoch 27/64, Loss: 1.2918\n",
      "Epoch 28/64, Loss: 1.2195\n",
      "Epoch 29/64, Loss: 1.1882\n",
      "Epoch 30/64, Loss: 1.2467\n",
      "Epoch 31/64, Loss: 1.2046\n",
      "Epoch 32/64, Loss: 1.1706\n",
      "Epoch 33/64, Loss: 1.1613\n",
      "Epoch 34/64, Loss: 1.1592\n",
      "Epoch 35/64, Loss: 1.0900\n",
      "Epoch 36/64, Loss: 1.1198\n",
      "Epoch 37/64, Loss: 1.1095\n",
      "Epoch 38/64, Loss: 1.1376\n",
      "Epoch 39/64, Loss: 1.0796\n",
      "Epoch 40/64, Loss: 1.0698\n",
      "Epoch 41/64, Loss: 1.0936\n",
      "Epoch 42/64, Loss: 1.0425\n",
      "Epoch 43/64, Loss: 1.1277\n",
      "Epoch 44/64, Loss: 1.1106\n",
      "Epoch 45/64, Loss: 1.0774\n",
      "Epoch 46/64, Loss: 1.1116\n",
      "Epoch 47/64, Loss: 1.0595\n",
      "Epoch 48/64, Loss: 1.0984\n",
      "Epoch 49/64, Loss: 1.1156\n",
      "Epoch 50/64, Loss: 1.0397\n",
      "Epoch 51/64, Loss: 1.0388\n",
      "Epoch 52/64, Loss: 1.0341\n",
      "Epoch 53/64, Loss: 1.0798\n",
      "Epoch 54/64, Loss: 0.9908\n",
      "Epoch 55/64, Loss: 0.9885\n",
      "Epoch 56/64, Loss: 1.1504\n",
      "Epoch 57/64, Loss: 1.0261\n",
      "Epoch 58/64, Loss: 1.0407\n",
      "Epoch 59/64, Loss: 1.0634\n",
      "Epoch 60/64, Loss: 1.0684\n",
      "Epoch 61/64, Loss: 1.0612\n",
      "Epoch 62/64, Loss: 1.0201\n",
      "Epoch 63/64, Loss: 1.0254\n",
      "Epoch 64/64, Loss: 0.9898\n"
     ]
    }
   ],
   "source": [
    "for epoch in range(num_epochs):\n",
    "\n",
    "    # Coloca o modelo em modo de treino\n",
    "    net.train()\n",
    "\n",
    "    running_loss = 0.0\n",
    "\n",
    "    for images, labels in train_loader:\n",
    "        \n",
    "        images, labels = images.to(device, non_blocking=True), labels.to(device, non_blocking=True)\n",
    "\n",
    "        optimizer.zero_grad()\n",
    "\n",
    "        outputs = net(images) \n",
    "        loss = loss_function(outputs, labels) \n",
    "\n",
    "        loss.backward()\n",
    "        optimizer.step()\n",
    "\n",
    "        running_loss += loss.item()\n",
    "\n",
    "    print(f\"Epoch {epoch + 1}/{num_epochs}, Loss: {running_loss / len(train_loader):.4f}\")"
   ]
  },
  {
   "cell_type": "markdown",
   "metadata": {},
   "source": [
    "# Testando o Modelo"
   ]
  },
  {
   "cell_type": "code",
   "execution_count": 54,
   "metadata": {},
   "outputs": [
    {
     "name": "stdout",
     "output_type": "stream",
     "text": [
      "Precisão do modelo no conjunto de teste: 48.04%\n",
      "Previsões: ['Milho - Ferrugem', 'Milho - Saudavel', 'Milho - Northern Leaf Blight', 'Milho - Ferrugem', 'Milho - Ferrugem', 'Milho - Northern Leaf Blight', 'Milho - Cercospora Gray Spot', 'Milho - Cercospora Gray Spot', 'Milho - Ferrugem', 'Milho - Ferrugem', 'Milho - Saudavel', 'Milho - Ferrugem', 'Milho - Saudavel', 'Milho - Cercospora Gray Spot', 'Milho - Cercospora Gray Spot', 'Milho - Cercospora Gray Spot', 'Milho - Cercospora Gray Spot', 'Milho - Ferrugem', 'Milho - Ferrugem', 'Milho - Cercospora Gray Spot', 'Milho - Ferrugem', 'Milho - Cercospora Gray Spot', 'Milho - Northern Leaf Blight', 'Milho - Cercospora Gray Spot', 'Milho - Ferrugem', 'Milho - Northern Leaf Blight', 'Milho - Ferrugem', 'Milho - Ferrugem', 'Milho - Northern Leaf Blight', 'Milho - Cercospora Gray Spot', 'Milho - Cercospora Gray Spot', 'Milho - Cercospora Gray Spot']\n",
      "Labels reais: ['Milho - Cercospora Gray Spot', 'Milho - Cercospora Gray Spot', 'Milho - Cercospora Gray Spot', 'Milho - Cercospora Gray Spot', 'Milho - Cercospora Gray Spot', 'Milho - Cercospora Gray Spot', 'Milho - Cercospora Gray Spot', 'Milho - Cercospora Gray Spot', 'Milho - Cercospora Gray Spot', 'Milho - Cercospora Gray Spot', 'Milho - Cercospora Gray Spot', 'Milho - Cercospora Gray Spot', 'Milho - Cercospora Gray Spot', 'Milho - Cercospora Gray Spot', 'Milho - Cercospora Gray Spot', 'Milho - Cercospora Gray Spot', 'Milho - Cercospora Gray Spot', 'Milho - Cercospora Gray Spot', 'Milho - Cercospora Gray Spot', 'Milho - Cercospora Gray Spot', 'Milho - Cercospora Gray Spot', 'Milho - Cercospora Gray Spot', 'Milho - Cercospora Gray Spot', 'Milho - Cercospora Gray Spot', 'Milho - Cercospora Gray Spot', 'Milho - Cercospora Gray Spot', 'Milho - Cercospora Gray Spot', 'Milho - Cercospora Gray Spot', 'Milho - Cercospora Gray Spot', 'Milho - Cercospora Gray Spot', 'Milho - Cercospora Gray Spot', 'Milho - Cercospora Gray Spot']\n"
     ]
    }
   ],
   "source": [
    "# Coloca o modelo em modo de avaliação\n",
    "net.eval()\n",
    "\n",
    "device = torch.device(\"cuda\" if torch.cuda.is_available() else \"cpu\")\n",
    "\n",
    "correct = 0\n",
    "total = 0\n",
    "\n",
    "# Desativando o cálculo de gradiente para economizar memória\n",
    "with torch.no_grad():\n",
    "    for images, labels in test_loader:\n",
    "        images, labels = images.to(device), labels.to(device)\n",
    "\n",
    "        outputs = net(images)\n",
    "        _, predicted = torch.max(outputs, 1)\n",
    "\n",
    "        total += labels.size(0)\n",
    "        correct += (predicted == labels).sum().item()\n",
    "\n",
    "# Exibir precisão do modelo\n",
    "accuracy = 100 * correct / total\n",
    "print(f'Precisão do modelo no conjunto de teste: {accuracy:.2f}%')\n",
    "\n",
    "dataiter = iter(test_loader)\n",
    "images, labels = next(dataiter)\n",
    "\n",
    "# Movendo para GPU se disponível\n",
    "images, labels = images.to(device), labels.to(device)\n",
    "\n",
    "outputs = net(images)\n",
    "_, predicted = torch.max(outputs, 1)\n",
    "\n",
    "print('Previsões:', [classes[p] for p in predicted])  # Nome das classes previstas\n",
    "print('Labels reais:', [classes[l] for l in labels])  # Nome das classes corretas\n"
   ]
  },
  {
   "cell_type": "markdown",
   "metadata": {},
   "source": [
    "## Salvando o Modelo"
   ]
  },
  {
   "cell_type": "code",
   "execution_count": null,
   "metadata": {},
   "outputs": [],
   "source": [
    "MODEL_PATH = \"modelo_cnn_01.pth\"\n",
    "\n",
    "# Salvando o modelo treinado\n",
    "torch.save(net.state_dict(), MODEL_PATH)\n",
    "print(f\"Modelo salvo em: {MODEL_PATH}\")\n",
    "\n",
    "# Para carregar o modelo salvo posteriormente:\n",
    "# 1. Criar a mesma estrutura da rede neural\n",
    "model = NeuralNetwork()\n",
    "\n",
    "# 2. Carregar os pesos salvos no modelo\n",
    "model.load_state_dict(torch.load(MODEL_PATH))\n",
    "\n",
    "# 3. Definir o modelo para modo de avaliação\n",
    "model.eval()\n",
    "print(\"Modelo carregado com sucesso!\")\n"
   ]
  }
 ],
 "metadata": {
  "kernelspec": {
   "display_name": ".venv",
   "language": "python",
   "name": "python3"
  },
  "language_info": {
   "codemirror_mode": {
    "name": "ipython",
    "version": 3
   },
   "file_extension": ".py",
   "mimetype": "text/x-python",
   "name": "python",
   "nbconvert_exporter": "python",
   "pygments_lexer": "ipython3",
   "version": "3.13.1"
  }
 },
 "nbformat": 4,
 "nbformat_minor": 2
}
